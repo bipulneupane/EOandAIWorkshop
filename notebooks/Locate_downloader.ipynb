{
  "nbformat": 4,
  "nbformat_minor": 0,
  "metadata": {
    "colab": {
      "provenance": [],
      "toc_visible": true
    },
    "kernelspec": {
      "name": "python3",
      "display_name": "Python 3"
    },
    "language_info": {
      "name": "python"
    }
  },
  "cells": [
    {
      "cell_type": "markdown",
      "source": [
        "<div>\n",
        "   <table width=\"100%\" height=\"100%\" align=\"center\" valign=\"center\" bgcolor=\"white\" bordercolor=\"white\">\n",
        "   <tr><td>\n",
        "      <img align=\"left\" style=\"margin-top: auto; margin-bottom: auto;\" src=\"https://locate.geospatialcouncil.org.au/wp-content/uploads/sites/2/2023/07/LOCATE-24-website-logo.png\" width=\"375\"/>\n",
        "   </td>\n",
        "   <td>\n",
        "      <img align=\"right\" style=\"margin-top: auto; margin-bottom: auto;\" src=\"https://www.cqc2t.org/wp-content/uploads/2018/02/partner-uom2.png\" width=\"425\"/>\n",
        "   </td></tr>\n",
        "   </table>\n",
        "</div>"
      ],
      "metadata": {
        "id": "59TGleQMiU_0"
      }
    },
    {
      "cell_type": "markdown",
      "source": [
        "### Fetching the Jupyter Notebook and files in your Google Drive (First time)\n",
        "\n",
        "The following steps will allow you to Fetch the required files in your Google Drive:\n",
        "\n",
        "1. Mount your Google Drive\n",
        "2. Navigate to the desired directory (folder)\n",
        "3. Clone the GitHub Repository (only for the first time)\n",
        "4. Navigate to the EOandAIWorkshop directory\n",
        "5. Download data into you Google Drive (only for the first time)\n",
        "6. Download trained models into you Google Drive (only for the first time)\n",
        "7. Unzip the two files (only for the first time)\n",
        "\n",
        "Let's work on that step-by-step below."
      ],
      "metadata": {
        "id": "7P40LMqxUY61"
      }
    },
    {
      "cell_type": "code",
      "source": [
        "# Mounting (connecting) Google Drive\n",
        "from google.colab import drive\n",
        "drive.mount('/gdrive')"
      ],
      "metadata": {
        "colab": {
          "base_uri": "https://localhost:8080/"
        },
        "id": "yebNARjBUZf-",
        "outputId": "60454ae5-fb2f-4b15-d8ff-1a1f7ee9f122"
      },
      "execution_count": 1,
      "outputs": [
        {
          "output_type": "stream",
          "name": "stdout",
          "text": [
            "Mounted at /gdrive\n"
          ]
        }
      ]
    },
    {
      "cell_type": "code",
      "source": [
        "# Navigating to the your base Google Drive folder \"My Drive\"\n",
        "%cd /gdrive/My\\ Drive/\n",
        "\n",
        "# Creating a folder (aka. directory) named \"WORKSPACE\" in your Google Drive\n",
        "# %mkdir WORKSPACE\n",
        "\n",
        "# Nvigating inside the \"WORKSPACE\" folder\n",
        "%cd /gdrive/My\\ Drive/WORKSPACE\n",
        "\n",
        "# Now that we are in the \"WORKSPACE\" folder."
      ],
      "metadata": {
        "colab": {
          "base_uri": "https://localhost:8080/"
        },
        "id": "ZGN9ssIaUq_h",
        "outputId": "09a51be1-edbe-4cce-8424-47332ddf3b8d"
      },
      "execution_count": 2,
      "outputs": [
        {
          "output_type": "stream",
          "name": "stdout",
          "text": [
            "/gdrive/My Drive\n",
            "/gdrive/My Drive/WORKSPACE\n"
          ]
        }
      ]
    },
    {
      "cell_type": "code",
      "source": [
        "# Clone the GitHub Repository\n",
        "!git clone https://github.com/bipulneupane/EOandAIWorkshop.git\n",
        "\n",
        "# check the files are downloaded in your Google Drive folder\n",
        "# run this cell only at the first time"
      ],
      "metadata": {
        "colab": {
          "base_uri": "https://localhost:8080/"
        },
        "id": "QJ51cnT0U7Cn",
        "outputId": "73a2d1f2-1a8f-4e71-d6f7-8a13b84943e0"
      },
      "execution_count": 3,
      "outputs": [
        {
          "output_type": "stream",
          "name": "stdout",
          "text": [
            "Cloning into 'EOandAIWorkshop'...\n",
            "remote: Enumerating objects: 77, done.\u001b[K\n",
            "remote: Counting objects: 100% (77/77), done.\u001b[K\n",
            "remote: Compressing objects: 100% (62/62), done.\u001b[K\n",
            "remote: Total 77 (delta 20), reused 0 (delta 0), pack-reused 0\u001b[K\n",
            "Receiving objects: 100% (77/77), 9.70 MiB | 6.16 MiB/s, done.\n",
            "Resolving deltas: 100% (20/20), done.\n"
          ]
        }
      ]
    },
    {
      "cell_type": "code",
      "source": [
        "# Navigate inside EOandAIWorkshop folder\n",
        "%cd EOandAIWorkshop"
      ],
      "metadata": {
        "colab": {
          "base_uri": "https://localhost:8080/"
        },
        "id": "olmgELp5WNnq",
        "outputId": "fbcac7b2-de4a-43d4-fdaa-59d9f9cab12b"
      },
      "execution_count": 4,
      "outputs": [
        {
          "output_type": "stream",
          "name": "stdout",
          "text": [
            "/gdrive/MyDrive/WORKSPACE/EOandAIWorkshop\n"
          ]
        }
      ]
    },
    {
      "cell_type": "code",
      "source": [
        "# Downloading data and trained models using gdown library, and unzip them\n",
        "import gdown\n",
        "\n",
        "# Downloading data\n",
        "data_url = 'https://drive.google.com/uc?id=1Lx4vCZuJfE6_R20WWVy2Ckl-VVooKdwI'\n",
        "data_output = 'data.zip'\n",
        "gdown.download(data_url, data_output, quiet=False)\n",
        "\n",
        "# Unzip data file\n",
        "!unzip \"data.zip\"\n",
        "\n",
        "# Downloading trained models\n",
        "model_url = 'https://drive.google.com/uc?id=1JJkJBam6u0662GbmLlvHRezJCpGA1fVA'\n",
        "model_output = 'trained_models.zip'\n",
        "gdown.download(model_url, model_output, quiet=False)\n",
        "\n",
        "# Unzip trained_models folder\n",
        "!unzip \"trained_models.zip\""
      ],
      "metadata": {
        "colab": {
          "base_uri": "https://localhost:8080/",
          "height": 148
        },
        "id": "XJhecaFpVDjB",
        "outputId": "6123d045-e266-4029-cc7a-3babc3027254"
      },
      "execution_count": 5,
      "outputs": [
        {
          "output_type": "stream",
          "name": "stderr",
          "text": [
            "Downloading...\n",
            "From (original): https://drive.google.com/uc?id=1Lx4vCZuJfE6_R20WWVy2Ckl-VVooKdwI\n",
            "From (redirected): https://drive.google.com/uc?id=1Lx4vCZuJfE6_R20WWVy2Ckl-VVooKdwI&confirm=t&uuid=7eecea66-8894-45cf-bd4f-07bef3dd569e\n",
            "To: /gdrive/MyDrive/WORKSPACE/EOandAIWorkshop/data.zip\n",
            "100%|██████████| 166M/166M [00:08<00:00, 19.6MB/s]\n"
          ]
        },
        {
          "output_type": "execute_result",
          "data": {
            "text/plain": [
              "'data.zip'"
            ],
            "application/vnd.google.colaboratory.intrinsic+json": {
              "type": "string"
            }
          },
          "metadata": {},
          "execution_count": 5
        }
      ]
    },
    {
      "cell_type": "markdown",
      "source": [
        "**Now navigate to the \"Train-SMpytorch.ipynb\" file in you Google Drive folder and start the notebook. **"
      ],
      "metadata": {
        "id": "aCbk3owTbIzU"
      }
    }
  ]
}